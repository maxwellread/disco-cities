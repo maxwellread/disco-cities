{
 "cells": [
  {
   "cell_type": "code",
   "execution_count": null,
   "id": "0ab23b6e",
   "metadata": {},
   "outputs": [],
   "source": [
    "import pandas as pd\n",
    "import os\n",
    "from geopy.geocoders import Nominatim\n",
    "import time\n",
    "from tqdm import tqdm\n",
    "\n",
    "# Enable tqdm\n",
    "tqdm.pandas()\n",
    "\n",
    "USE_SAMPLE = False  # Set to False to run on the full dataset\n",
    "SAMPLE_SIZE = 200\n",
    "RANDOM_STATE = 700\n",
    "\n",
    "BATCH_SIZE = 5000\n",
    "BATCHES_OUTFOLDER = r\"C:\\Users\\maxmo\\Dropbox\\GDS\\Dissertation\\discogs\\data\\geocoding_batches\"\n",
    "\n",
    "INPATH = r\"C:\\Users\\maxmo\\Dropbox\\GDS\\Dissertation\\discogs\\data\\L2_clean_labels.csv\"\n",
    "OUTPATH_FULL = r\"C:\\Users\\maxmo\\Dropbox\\GDS\\Dissertation\\discogs\\data\\L3_geocoded_labels.csv\"\n",
    "OUTPATH_MISSING = r\"C:\\Users\\maxmo\\Dropbox\\GDS\\Dissertation\\discogs\\data\\geocoded_MISSINGS.csv\"\n",
    "OUTPATH_SAMPLE = r\"C:\\Users\\maxmo\\Dropbox\\GDS\\Dissertation\\discogs\\data\\tests\\sample_with_coordinates.csv\"\n",
    "\n",
    "df = pd.read_csv(INPATH)"
   ]
  },
  {
   "cell_type": "markdown",
   "id": "907ca4a0",
   "metadata": {},
   "source": [
    "BASE GEOCODING FUNCTION\n",
    "\n",
    "\n",
    "This code provides the basic cleaning as part of the first step in the geocoding process. We scrub the \"contact_info\" for confounding characters and send the results through OSM. A secondary method, utilising REGEX on the \"profile\" text is tried subsequently. Where both fail, the results are passed into a missings csv for further study."
   ]
  },
  {
   "cell_type": "code",
   "execution_count": 24,
   "id": "ad630631",
   "metadata": {},
   "outputs": [
    {
     "name": "stdout",
     "output_type": "stream",
     "text": [
      "                                                 profile  \\\n",
      "17548                 Recording studio.  Opened in 2013.   \n",
      "23791  Roman-Catholic pillar basilica in Romanesque s...   \n",
      "11752  The Sonopress Studios in Berlin was located at...   \n",
      "25969      Center for art & music in Huntsville, Alabama   \n",
      "12808                     Live venue in Shinjuku, Tokyo.   \n",
      "19006  Studio Royal St Joseph was active between 1976...   \n",
      "4757   Club / venue situated in the City of Bremen, G...   \n",
      "27514  Cultural center, theater and concert venue in ...   \n",
      "2574   Sunshine Music, Vienna is an Austrian record l...   \n",
      "29345  Series related to the organ of [l675162].\\r\\nR...   \n",
      "\n",
      "                                  regex_profile_location  \n",
      "17548                                               None  \n",
      "23791  district [i]Niederzell[/i] of the Isle of Reic...  \n",
      "11752                                               None  \n",
      "25969                                               None  \n",
      "12808                                    Shinjuku, Tokyo  \n",
      "19006                                               None  \n",
      "4757                                                None  \n",
      "27514                                      Vigo, Galicia  \n",
      "2574                                                None  \n",
      "29345                                               None  \n"
     ]
    }
   ],
   "source": [
    "import re\n",
    "\n",
    "def extract_location(text):\n",
    "    if pd.isnull(text):\n",
    "        return None\n",
    "    # Match \"located\", \"venue\", \"studio\", or \"based\" followed by \"in\", \"on\", or \"near\"\n",
    "    match = re.search(\n",
    "        r'(located|venue|studio|based)\\s+(in|on|near)\\s+([^\\.\\!\\?\\n\\r]+)',\n",
    "        text,\n",
    "        re.IGNORECASE\n",
    "    )\n",
    "    if match:\n",
    "        return match.group(3).strip()\n",
    "    return None\n",
    "\n",
    "def clean_location(location):\n",
    "    if not isinstance(location, str):\n",
    "        return location\n",
    "    # Remove \"the\" if it is the first word\n",
    "    location = re.sub(r'^\\s*the\\s+', '', location, flags=re.IGNORECASE)\n",
    "    # Remove \"city of\" if it is the first words\n",
    "    location = re.sub(r'^\\s*city of\\s+', '', location, flags=re.IGNORECASE)\n",
    "    # Truncate at first stopping punctuation\n",
    "    location = re.split(r'[:;!\\.\\?\\n\\r]', location)[0].strip()\n",
    "    # Truncate before \"___ by\"\n",
    "    location = re.split(r'\\s+\\w+\\s+by\\b', location)[0].strip()\n",
    "    # Truncate before \"in YEAR\" (YEAR = 4 digits)\n",
    "    location = re.split(r'\\s+in\\s+\\d{4}\\b', location, flags=re.IGNORECASE)[0].strip()\n",
    "    # Truncate before \"established\"\n",
    "    location = re.split(r'\\s+established\\b', location, flags=re.IGNORECASE)[0].strip()\n",
    "    # Cut everything after the second comma\n",
    "    comma_parts = location.split(',')\n",
    "    if len(comma_parts) > 2:\n",
    "        location = ','.join(comma_parts[:2]).strip()\n",
    "    return location\n",
    "\n",
    "df['regex_profile_location'] = df['profile'].apply(extract_location)\n",
    "df['regex_profile_location'] = df['regex_profile_location'].apply(clean_location)\n",
    "print(df[['profile', 'regex_profile_location']].sample(10, random_state=68))"
   ]
  },
  {
   "cell_type": "code",
   "execution_count": 25,
   "id": "6508732a",
   "metadata": {},
   "outputs": [
    {
     "name": "stderr",
     "output_type": "stream",
     "text": [
      " 55%|█████▌    | 16263/29382 [4:35:57<18:53:59,  5.19s/it]"
     ]
    },
    {
     "name": "stdout",
     "output_type": "stream",
     "text": [
      "Failed for i n f o @ c o t t a g e s o u n d . c o m: HTTPSConnectionPool(host='nominatim.openstreetmap.org', port=443): Max retries exceeded with url: /search?q=i+n+f+o+%40+c+o+t+t+a+g+e+s+o+u+n+d+.+c+o+m&format=json&limit=1 (Caused by ReadTimeoutError(\"HTTPSConnectionPool(host='nominatim.openstreetmap.org', port=443): Read timed out. (read timeout=5)\"))\n"
     ]
    },
    {
     "name": "stderr",
     "output_type": "stream",
     "text": [
      " 77%|███████▋  | 22531/29382 [6:22:32<7:08:02,  3.75s/it] "
     ]
    },
    {
     "name": "stdout",
     "output_type": "stream",
     "text": [
      "Failed for 0758-461 85 (1983 to 1992-04-01)\n",
      "+46 8 582 461 85 (1992-04-01 to mid-2005)\n",
      " 0171-510 55 (mid-2005 to ca 2015)\n",
      "0171-46 70 90 (ca 2015 to ): HTTPSConnectionPool(host='nominatim.openstreetmap.org', port=443): Max retries exceeded with url: /search?q=0758-461+85+%281983+to+1992-04-01%29%0A%2B46+8+582+461+85+%281992-04-01+to+mid-2005%29%0A+0171-510+55+%28mid-2005+to+ca+2015%29%0A0171-46+70+90+%28ca+2015+to+%29&format=json&limit=1 (Caused by ReadTimeoutError(\"HTTPSConnectionPool(host='nominatim.openstreetmap.org', port=443): Read timed out. (read timeout=5)\"))\n"
     ]
    },
    {
     "name": "stderr",
     "output_type": "stream",
     "text": [
      "100%|██████████| 29382/29382 [8:18:24<00:00,  1.02s/it]  "
     ]
    },
    {
     "name": "stdout",
     "output_type": "stream",
     "text": [
      "Total time: 29904.55 seconds\n"
     ]
    },
    {
     "name": "stderr",
     "output_type": "stream",
     "text": [
      "\n"
     ]
    }
   ],
   "source": [
    "geolocator = Nominatim(user_agent=\"m.read2@lse.ac.uk\", timeout=5)\n",
    "\n",
    "def geocode_address(address):\n",
    "    if not isinstance(address, str) or not address.strip():\n",
    "        return None, None\n",
    "    time.sleep(0.01)  # rate limiting\n",
    "    try:\n",
    "        location = geolocator.geocode(address)\n",
    "        if location:\n",
    "            return location.latitude, location.longitude\n",
    "    except Exception as e:\n",
    "        print(f\"Failed for {address}: {e}\")\n",
    "    return None, None\n",
    "\n",
    "# Select dataframe based on USE_SAMPLE\n",
    "working_df = df.sample(n=SAMPLE_SIZE, random_state=RANDOM_STATE) if USE_SAMPLE else df\n",
    "\n",
    "start = time.time()\n",
    "\n",
    "# Apply geocoding with tqdm progress bar\n",
    "coords = working_df['text_block'].progress_apply(geocode_address)\n",
    "working_df['latitude'], working_df['longitude'] = zip(*coords)\n",
    "\n",
    "end = time.time()\n",
    "print(f\"Total time: {end - start:.2f} seconds\")"
   ]
  },
  {
   "cell_type": "code",
   "execution_count": 26,
   "id": "d197dd8a",
   "metadata": {},
   "outputs": [
    {
     "name": "stderr",
     "output_type": "stream",
     "text": [
      "  6%|▋         | 1845/29382 [15:38<3:05:57,  2.47it/s]"
     ]
    },
    {
     "name": "stdout",
     "output_type": "stream",
     "text": [
      "Failed for Paris, related to label [l=Delphine]: Non-successful status code 500\n"
     ]
    },
    {
     "name": "stderr",
     "output_type": "stream",
     "text": [
      " 10%|▉         | 2816/29382 [23:46<7:07:49,  1.03it/s]"
     ]
    },
    {
     "name": "stdout",
     "output_type": "stream",
     "text": [
      "Failed for NYC as [l=Waterworks], the studio relocated to Tucson: Non-successful status code 500\n"
     ]
    },
    {
     "name": "stderr",
     "output_type": "stream",
     "text": [
      " 19%|█▉        | 5670/29382 [47:31<2:54:01,  2.27it/s] "
     ]
    },
    {
     "name": "stdout",
     "output_type": "stream",
     "text": [
      "Failed for [l=Grenslandhallen] complex in Hasselt (Belgium): Non-successful status code 500\n"
     ]
    },
    {
     "name": "stderr",
     "output_type": "stream",
     "text": [
      " 19%|█▉        | 5715/29382 [47:50<3:58:17,  1.66it/s]"
     ]
    },
    {
     "name": "stdout",
     "output_type": "stream",
     "text": [
      "Failed for premises of the [l=Musikbrauerei] in Berlin, Germany: Non-successful status code 500\n"
     ]
    },
    {
     "name": "stderr",
     "output_type": "stream",
     "text": [
      " 19%|█▉        | 5716/29382 [47:51<4:28:34,  1.47it/s]"
     ]
    },
    {
     "name": "stdout",
     "output_type": "stream",
     "text": [
      "Failed for premises of the [l=Musikbrauerei] in Berlin, Germany: Non-successful status code 500\n"
     ]
    },
    {
     "name": "stderr",
     "output_type": "stream",
     "text": [
      " 23%|██▎       | 6824/29382 [56:13<2:30:38,  2.50it/s]"
     ]
    },
    {
     "name": "stdout",
     "output_type": "stream",
     "text": [
      "Failed for Stockholm, that runs the [l=Atlantis Grammofon] and [l=Alternativ] labels: Non-successful status code 500\n"
     ]
    },
    {
     "name": "stderr",
     "output_type": "stream",
     "text": [
      " 28%|██▊       | 8267/29382 [1:06:32<2:08:17,  2.74it/s]"
     ]
    },
    {
     "name": "stdout",
     "output_type": "stream",
     "text": [
      "Failed for Naples within [l=Polosud] records: Non-successful status code 500\n"
     ]
    },
    {
     "name": "stderr",
     "output_type": "stream",
     "text": [
      " 38%|███▊      | 11042/29382 [1:27:53<2:07:48,  2.39it/s]"
     ]
    },
    {
     "name": "stdout",
     "output_type": "stream",
     "text": [
      "Failed for California connected to [a=Bill Cuomo] before he relocated to Tenessee and there started the studio [l=Manzanita]: Non-successful status code 500\n"
     ]
    },
    {
     "name": "stderr",
     "output_type": "stream",
     "text": [
      " 43%|████▎     | 12601/29382 [1:39:04<3:01:26,  1.54it/s]"
     ]
    },
    {
     "name": "stdout",
     "output_type": "stream",
     "text": [
      "Failed for same building as [l=Hafenklang], [l=Hafenklang Studio] and [l=Sounds Of Subterrania]: Non-successful status code 500\n"
     ]
    },
    {
     "name": "stderr",
     "output_type": "stream",
     "text": [
      " 43%|████▎     | 12602/29382 [1:39:05<3:13:30,  1.45it/s]"
     ]
    },
    {
     "name": "stdout",
     "output_type": "stream",
     "text": [
      "Failed for same building as [l=Hafenklang], [l=Hafenklang Studio] and [l=Sounds Of Subterrania]: Non-successful status code 500\n"
     ]
    },
    {
     "name": "stderr",
     "output_type": "stream",
     "text": [
      " 61%|██████▏   | 18004/29382 [2:14:51<1:03:07,  3.00it/s]"
     ]
    },
    {
     "name": "stdout",
     "output_type": "stream",
     "text": [
      "Failed for Nice, France co-founded by singer/songwriter/producer [a=Medi]: Non-successful status code 500\n"
     ]
    },
    {
     "name": "stderr",
     "output_type": "stream",
     "text": [
      " 68%|██████▊   | 19958/29382 [2:26:36<1:21:18,  1.93it/s]"
     ]
    },
    {
     "name": "stdout",
     "output_type": "stream",
     "text": [
      "Failed for Limbourg (Belgium) associated with Belgian label [l=Rodel]: Non-successful status code 500\n"
     ]
    },
    {
     "name": "stderr",
     "output_type": "stream",
     "text": [
      " 68%|██████▊   | 19959/29382 [2:26:37<1:34:55,  1.65it/s]"
     ]
    },
    {
     "name": "stdout",
     "output_type": "stream",
     "text": [
      "Failed for Limbourg (Belgium) associated with Belgian label [l=Rodel]: Non-successful status code 500\n"
     ]
    },
    {
     "name": "stderr",
     "output_type": "stream",
     "text": [
      " 97%|█████████▋| 28363/29382 [3:12:29<07:09,  2.37it/s]  "
     ]
    },
    {
     "name": "stdout",
     "output_type": "stream",
     "text": [
      "Failed for [a=OrangeGuyProductions]' home under the independent label AP DP MP Records that mostly records all the records from the label: Non-successful status code 500\n"
     ]
    },
    {
     "name": "stderr",
     "output_type": "stream",
     "text": [
      "100%|██████████| 29382/29382 [3:17:40<00:00,  2.48it/s]\n"
     ]
    }
   ],
   "source": [
    "start = time.time()\n",
    "\n",
    "# Apply geocoding with tqdm progress bar\n",
    "# Only geocode non-blank regex_profile_location\n",
    "coords = working_df['regex_profile_location'].progress_apply(\n",
    "    lambda x: geocode_address(x) if isinstance(x, str) else (None, None)\n",
    ")\n",
    "working_df['reg_prof_latitude'], working_df['reg_prof_longitude'] = zip(*coords)\n",
    "\n",
    "end = time.time()"
   ]
  },
  {
   "cell_type": "code",
   "execution_count": 27,
   "id": "e6e38d94",
   "metadata": {
    "vscode": {
     "languageId": "ruby"
    }
   },
   "outputs": [],
   "source": [
    "# Save all geocoded data\n",
    "working_df.to_csv(OUTPATH_FULL, index=False)\n",
    "\n",
    "# Filter rows with no valid coordinates in either set\n",
    "mask = (\n",
    "    (working_df['latitude'].isnull() | working_df['longitude'].isnull()) &\n",
    "    (working_df['reg_prof_latitude'].isnull() | working_df['reg_prof_longitude'].isnull())\n",
    ")\n",
    "working_df[mask].to_csv(OUTPATH_MISSING, index=False)"
   ]
  }
 ],
 "metadata": {
  "kernelspec": {
   "display_name": "GRL_env",
   "language": "python",
   "name": "python3"
  },
  "language_info": {
   "codemirror_mode": {
    "name": "ipython",
    "version": 3
   },
   "file_extension": ".py",
   "mimetype": "text/x-python",
   "name": "python",
   "nbconvert_exporter": "python",
   "pygments_lexer": "ipython3",
   "version": "3.12.9"
  }
 },
 "nbformat": 4,
 "nbformat_minor": 5
}
